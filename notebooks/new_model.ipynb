{
 "cells": [
  {
   "cell_type": "code",
   "execution_count": 22,
   "id": "86db71dd",
   "metadata": {},
   "outputs": [],
   "source": [
    "import pandas as pd\n",
    "from sklearn.model_selection import train_test_split, cross_val_score\n",
    "from sklearn.tree import DecisionTreeClassifier\n",
    "from pathlib import Path\n",
    "import os\n",
    "import pickle"
   ]
  },
  {
   "cell_type": "code",
   "execution_count": 5,
   "id": "51fb3680",
   "metadata": {},
   "outputs": [],
   "source": [
    "#Path for data csv\n",
    "data_path = os.path.join(os.getcwd(), '..', 'csv', 'dataset.csv')"
   ]
  },
  {
   "cell_type": "code",
   "execution_count": 7,
   "id": "d5cbd023",
   "metadata": {},
   "outputs": [],
   "source": [
    "# Load the dataset\n",
    "data = pd.read_csv(data_path)\n",
    "data.columns = data.columns.str.strip()"
   ]
  },
  {
   "cell_type": "code",
   "execution_count": 8,
   "id": "f4f22249",
   "metadata": {},
   "outputs": [
    {
     "data": {
      "text/html": [
       "<div>\n",
       "<style scoped>\n",
       "    .dataframe tbody tr th:only-of-type {\n",
       "        vertical-align: middle;\n",
       "    }\n",
       "\n",
       "    .dataframe tbody tr th {\n",
       "        vertical-align: top;\n",
       "    }\n",
       "\n",
       "    .dataframe thead th {\n",
       "        text-align: right;\n",
       "    }\n",
       "</style>\n",
       "<table border=\"1\" class=\"dataframe\">\n",
       "  <thead>\n",
       "    <tr style=\"text-align: right;\">\n",
       "      <th></th>\n",
       "      <th>Velocity</th>\n",
       "      <th>Lean</th>\n",
       "      <th>Pitch</th>\n",
       "      <th>Yaw</th>\n",
       "      <th>Status</th>\n",
       "    </tr>\n",
       "  </thead>\n",
       "  <tbody>\n",
       "    <tr>\n",
       "      <th>0</th>\n",
       "      <td>33.009230</td>\n",
       "      <td>0.000010</td>\n",
       "      <td>-0.974731</td>\n",
       "      <td>-0.000002</td>\n",
       "      <td>Not Crashed</td>\n",
       "    </tr>\n",
       "    <tr>\n",
       "      <th>1</th>\n",
       "      <td>28.832630</td>\n",
       "      <td>-71.388400</td>\n",
       "      <td>-1.604614</td>\n",
       "      <td>-41.169560</td>\n",
       "      <td>Crashed</td>\n",
       "    </tr>\n",
       "    <tr>\n",
       "      <th>2</th>\n",
       "      <td>32.042540</td>\n",
       "      <td>-2.253479</td>\n",
       "      <td>-0.308746</td>\n",
       "      <td>9.532890</td>\n",
       "      <td>Not Crashed</td>\n",
       "    </tr>\n",
       "    <tr>\n",
       "      <th>3</th>\n",
       "      <td>42.689440</td>\n",
       "      <td>25.880370</td>\n",
       "      <td>1.080804</td>\n",
       "      <td>-0.744476</td>\n",
       "      <td>Crashed</td>\n",
       "    </tr>\n",
       "    <tr>\n",
       "      <th>4</th>\n",
       "      <td>19.181060</td>\n",
       "      <td>-27.602200</td>\n",
       "      <td>-0.707123</td>\n",
       "      <td>-75.976500</td>\n",
       "      <td>Not Crashed</td>\n",
       "    </tr>\n",
       "    <tr>\n",
       "      <th>...</th>\n",
       "      <td>...</td>\n",
       "      <td>...</td>\n",
       "      <td>...</td>\n",
       "      <td>...</td>\n",
       "      <td>...</td>\n",
       "    </tr>\n",
       "    <tr>\n",
       "      <th>782</th>\n",
       "      <td>16.249720</td>\n",
       "      <td>15.877220</td>\n",
       "      <td>-2.792297</td>\n",
       "      <td>-17.184330</td>\n",
       "      <td>Crashed</td>\n",
       "    </tr>\n",
       "    <tr>\n",
       "      <th>783</th>\n",
       "      <td>8.604404</td>\n",
       "      <td>0.000000</td>\n",
       "      <td>-0.967896</td>\n",
       "      <td>0.000000</td>\n",
       "      <td>Not Crashed</td>\n",
       "    </tr>\n",
       "    <tr>\n",
       "      <th>784</th>\n",
       "      <td>43.357170</td>\n",
       "      <td>1.847894</td>\n",
       "      <td>-3.195587</td>\n",
       "      <td>-1.400269</td>\n",
       "      <td>Not Crashed</td>\n",
       "    </tr>\n",
       "    <tr>\n",
       "      <th>785</th>\n",
       "      <td>48.634200</td>\n",
       "      <td>8.165228</td>\n",
       "      <td>-2.828491</td>\n",
       "      <td>5.006760</td>\n",
       "      <td>Not Crashed</td>\n",
       "    </tr>\n",
       "    <tr>\n",
       "      <th>786</th>\n",
       "      <td>51.774010</td>\n",
       "      <td>72.142930</td>\n",
       "      <td>-7.753143</td>\n",
       "      <td>13.053530</td>\n",
       "      <td>Crashed</td>\n",
       "    </tr>\n",
       "  </tbody>\n",
       "</table>\n",
       "<p>787 rows × 5 columns</p>\n",
       "</div>"
      ],
      "text/plain": [
       "      Velocity       Lean     Pitch        Yaw       Status\n",
       "0    33.009230   0.000010 -0.974731  -0.000002  Not Crashed\n",
       "1    28.832630 -71.388400 -1.604614 -41.169560      Crashed\n",
       "2    32.042540  -2.253479 -0.308746   9.532890  Not Crashed\n",
       "3    42.689440  25.880370  1.080804  -0.744476      Crashed\n",
       "4    19.181060 -27.602200 -0.707123 -75.976500  Not Crashed\n",
       "..         ...        ...       ...        ...          ...\n",
       "782  16.249720  15.877220 -2.792297 -17.184330      Crashed\n",
       "783   8.604404   0.000000 -0.967896   0.000000  Not Crashed\n",
       "784  43.357170   1.847894 -3.195587  -1.400269  Not Crashed\n",
       "785  48.634200   8.165228 -2.828491   5.006760  Not Crashed\n",
       "786  51.774010  72.142930 -7.753143  13.053530      Crashed\n",
       "\n",
       "[787 rows x 5 columns]"
      ]
     },
     "execution_count": 8,
     "metadata": {},
     "output_type": "execute_result"
    }
   ],
   "source": [
    "data"
   ]
  },
  {
   "cell_type": "code",
   "execution_count": 11,
   "id": "d8a59780",
   "metadata": {},
   "outputs": [],
   "source": [
    "X = data.drop('Status', axis=1)\n",
    "y = data['Status']\n",
    "X_train, X_test, y_train, y_test = train_test_split(X, y, test_size=0.2, random_state=42)"
   ]
  },
  {
   "cell_type": "code",
   "execution_count": 12,
   "id": "e3ae134d",
   "metadata": {},
   "outputs": [
    {
     "data": {
      "text/html": [
       "<style>#sk-container-id-1 {color: black;background-color: white;}#sk-container-id-1 pre{padding: 0;}#sk-container-id-1 div.sk-toggleable {background-color: white;}#sk-container-id-1 label.sk-toggleable__label {cursor: pointer;display: block;width: 100%;margin-bottom: 0;padding: 0.3em;box-sizing: border-box;text-align: center;}#sk-container-id-1 label.sk-toggleable__label-arrow:before {content: \"▸\";float: left;margin-right: 0.25em;color: #696969;}#sk-container-id-1 label.sk-toggleable__label-arrow:hover:before {color: black;}#sk-container-id-1 div.sk-estimator:hover label.sk-toggleable__label-arrow:before {color: black;}#sk-container-id-1 div.sk-toggleable__content {max-height: 0;max-width: 0;overflow: hidden;text-align: left;background-color: #f0f8ff;}#sk-container-id-1 div.sk-toggleable__content pre {margin: 0.2em;color: black;border-radius: 0.25em;background-color: #f0f8ff;}#sk-container-id-1 input.sk-toggleable__control:checked~div.sk-toggleable__content {max-height: 200px;max-width: 100%;overflow: auto;}#sk-container-id-1 input.sk-toggleable__control:checked~label.sk-toggleable__label-arrow:before {content: \"▾\";}#sk-container-id-1 div.sk-estimator input.sk-toggleable__control:checked~label.sk-toggleable__label {background-color: #d4ebff;}#sk-container-id-1 div.sk-label input.sk-toggleable__control:checked~label.sk-toggleable__label {background-color: #d4ebff;}#sk-container-id-1 input.sk-hidden--visually {border: 0;clip: rect(1px 1px 1px 1px);clip: rect(1px, 1px, 1px, 1px);height: 1px;margin: -1px;overflow: hidden;padding: 0;position: absolute;width: 1px;}#sk-container-id-1 div.sk-estimator {font-family: monospace;background-color: #f0f8ff;border: 1px dotted black;border-radius: 0.25em;box-sizing: border-box;margin-bottom: 0.5em;}#sk-container-id-1 div.sk-estimator:hover {background-color: #d4ebff;}#sk-container-id-1 div.sk-parallel-item::after {content: \"\";width: 100%;border-bottom: 1px solid gray;flex-grow: 1;}#sk-container-id-1 div.sk-label:hover label.sk-toggleable__label {background-color: #d4ebff;}#sk-container-id-1 div.sk-serial::before {content: \"\";position: absolute;border-left: 1px solid gray;box-sizing: border-box;top: 0;bottom: 0;left: 50%;z-index: 0;}#sk-container-id-1 div.sk-serial {display: flex;flex-direction: column;align-items: center;background-color: white;padding-right: 0.2em;padding-left: 0.2em;position: relative;}#sk-container-id-1 div.sk-item {position: relative;z-index: 1;}#sk-container-id-1 div.sk-parallel {display: flex;align-items: stretch;justify-content: center;background-color: white;position: relative;}#sk-container-id-1 div.sk-item::before, #sk-container-id-1 div.sk-parallel-item::before {content: \"\";position: absolute;border-left: 1px solid gray;box-sizing: border-box;top: 0;bottom: 0;left: 50%;z-index: -1;}#sk-container-id-1 div.sk-parallel-item {display: flex;flex-direction: column;z-index: 1;position: relative;background-color: white;}#sk-container-id-1 div.sk-parallel-item:first-child::after {align-self: flex-end;width: 50%;}#sk-container-id-1 div.sk-parallel-item:last-child::after {align-self: flex-start;width: 50%;}#sk-container-id-1 div.sk-parallel-item:only-child::after {width: 0;}#sk-container-id-1 div.sk-dashed-wrapped {border: 1px dashed gray;margin: 0 0.4em 0.5em 0.4em;box-sizing: border-box;padding-bottom: 0.4em;background-color: white;}#sk-container-id-1 div.sk-label label {font-family: monospace;font-weight: bold;display: inline-block;line-height: 1.2em;}#sk-container-id-1 div.sk-label-container {text-align: center;}#sk-container-id-1 div.sk-container {/* jupyter's `normalize.less` sets `[hidden] { display: none; }` but bootstrap.min.css set `[hidden] { display: none !important; }` so we also need the `!important` here to be able to override the default hidden behavior on the sphinx rendered scikit-learn.org. See: https://github.com/scikit-learn/scikit-learn/issues/21755 */display: inline-block !important;position: relative;}#sk-container-id-1 div.sk-text-repr-fallback {display: none;}</style><div id=\"sk-container-id-1\" class=\"sk-top-container\"><div class=\"sk-text-repr-fallback\"><pre>DecisionTreeClassifier()</pre><b>In a Jupyter environment, please rerun this cell to show the HTML representation or trust the notebook. <br />On GitHub, the HTML representation is unable to render, please try loading this page with nbviewer.org.</b></div><div class=\"sk-container\" hidden><div class=\"sk-item\"><div class=\"sk-estimator sk-toggleable\"><input class=\"sk-toggleable__control sk-hidden--visually\" id=\"sk-estimator-id-1\" type=\"checkbox\" checked><label for=\"sk-estimator-id-1\" class=\"sk-toggleable__label sk-toggleable__label-arrow\">DecisionTreeClassifier</label><div class=\"sk-toggleable__content\"><pre>DecisionTreeClassifier()</pre></div></div></div></div></div>"
      ],
      "text/plain": [
       "DecisionTreeClassifier()"
      ]
     },
     "execution_count": 12,
     "metadata": {},
     "output_type": "execute_result"
    }
   ],
   "source": [
    "model = DecisionTreeClassifier()\n",
    "model.fit(X_train, y_train)"
   ]
  },
  {
   "cell_type": "code",
   "execution_count": 23,
   "id": "3aa6cad8",
   "metadata": {},
   "outputs": [
    {
     "name": "stdout",
     "output_type": "stream",
     "text": [
      "['Not Crashed']\n",
      "['Crashed']\n",
      "['Not Crashed']\n",
      "['Crashed']\n",
      "['Not Crashed']\n",
      "['Crashed']\n",
      "['Not Crashed']\n",
      "['Not Crashed']\n",
      "['Not Crashed']\n",
      "['Crashed']\n",
      "['Crashed']\n",
      "['Not Crashed']\n",
      "['Not Crashed']\n",
      "['Crashed']\n",
      "['Not Crashed']\n",
      "['Crashed']\n",
      "    Velocity    Lean  Pitch      Yaw   Prediction\n",
      "0     11.154   0.000 -4.369    0.000  Not Crashed\n",
      "1     40.944 -70.375 -9.254   -5.532      Crashed\n",
      "2     46.115 -12.626 -2.811    4.796  Not Crashed\n",
      "3     50.808  70.205 -0.824  -11.139      Crashed\n",
      "4     29.216 -18.455  1.202  -18.443  Not Crashed\n",
      "5     30.643  -3.838 -4.363   37.411      Crashed\n",
      "6     50.596 -17.289 -2.628   30.171  Not Crashed\n",
      "7     33.358 -24.659 -2.214   36.469  Not Crashed\n",
      "8     33.445  37.040 -2.761 -117.640  Not Crashed\n",
      "9     39.916  71.106 -1.360 -125.273      Crashed\n",
      "10    38.453  20.037 -3.071 -155.493      Crashed\n",
      "11    42.575  35.806 -1.868  179.393  Not Crashed\n",
      "12    42.314 -32.725 -2.808  179.375  Not Crashed\n",
      "13    44.187 -60.791  9.062  177.514      Crashed\n",
      "14     5.430  20.980 -1.856  -81.902  Not Crashed\n",
      "15     6.584  70.899  2.008 -109.831      Crashed\n"
     ]
    }
   ],
   "source": [
    "# Define the new_data DataFrame\n",
    "new_data = pd.DataFrame([\n",
    "    [11.154, 0, -4.369, 0],\n",
    "    [40.944, -70.375, -9.254, -5.532],\n",
    "    [46.115, -12.626, -2.811, 4.796],\n",
    "    [50.808, 70.205, -0.824, -11.139],\n",
    "    [29.216, -18.455, 1.202, -18.443],\n",
    "    [30.643, -3.838, -4.363, 37.411],\n",
    "    [50.596, -17.289, -2.628, 30.171],\n",
    "    [33.358, -24.659, -2.214, 36.469],\n",
    "    [33.445, 37.04, -2.761, -117.64],\n",
    "    [39.916, 71.106, -1.36, -125.273],\n",
    "    [38.453, 20.037, -3.071, -155.493],\n",
    "    [42.575, 35.806, -1.868, 179.393],\n",
    "    [42.314, -32.725, -2.808, 179.375],\n",
    "    [44.187, -60.791, 9.062, 177.514],\n",
    "    [5.43, 20.98, -1.856, -81.902],\n",
    "    [6.584, 70.899, 2.008, -109.831]\n",
    "], columns=['Velocity', 'Lean', 'Pitch', 'Yaw'])\n",
    "\n",
    "# Make predictions for each row in new_data\n",
    "predictions = []\n",
    "for i in range(len(new_data)):\n",
    "    X = new_data.iloc[[i]]  # Get the i-th row as a DataFrame\n",
    "    prediction = model.predict(X)  # Make a prediction for the row\n",
    "    print(prediction)\n",
    "    predictions.append(prediction)\n",
    "\n",
    "# Convert the predictions to a DataFrame\n",
    "predictions_df = pd.DataFrame(predictions, columns=['Prediction'])\n",
    "\n",
    "# Concatenate new_data and predictions_df along the columns\n",
    "result = pd.concat([new_data, predictions_df], axis=1)\n",
    "\n",
    "# Print the result\n",
    "print(result)"
   ]
  },
  {
   "cell_type": "code",
   "execution_count": null,
   "id": "cc40cb8e",
   "metadata": {},
   "outputs": [],
   "source": []
  },
  {
   "cell_type": "code",
   "execution_count": null,
   "id": "98b28d96",
   "metadata": {},
   "outputs": [],
   "source": []
  }
 ],
 "metadata": {
  "kernelspec": {
   "display_name": "Python 3 (ipykernel)",
   "language": "python",
   "name": "python3"
  },
  "language_info": {
   "codemirror_mode": {
    "name": "ipython",
    "version": 3
   },
   "file_extension": ".py",
   "mimetype": "text/x-python",
   "name": "python",
   "nbconvert_exporter": "python",
   "pygments_lexer": "ipython3",
   "version": "3.11.3"
  }
 },
 "nbformat": 4,
 "nbformat_minor": 5
}
