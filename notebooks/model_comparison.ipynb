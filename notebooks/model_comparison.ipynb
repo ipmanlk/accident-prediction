{
 "cells": [
  {
   "cell_type": "code",
   "execution_count": 77,
   "id": "1fb7ba76",
   "metadata": {},
   "outputs": [],
   "source": [
    "import pandas as pd\n",
    "from sklearn.model_selection import train_test_split, cross_val_score\n",
    "from sklearn.preprocessing import LabelEncoder\n",
    "from sklearn.linear_model import LogisticRegression\n",
    "from sklearn.tree import DecisionTreeClassifier\n",
    "from sklearn.ensemble import RandomForestClassifier\n",
    "from sklearn.svm import SVC\n",
    "from pathlib import Path\n",
    "import os\n",
    "import pickle\n"
   ]
  },
  {
   "cell_type": "code",
   "execution_count": 78,
   "id": "19f6db93",
   "metadata": {},
   "outputs": [],
   "source": [
    "#Path for data csv\n",
    "data_path = os.path.join(os.getcwd(), '..', 'csv', 'dataset.csv')"
   ]
  },
  {
   "cell_type": "code",
   "execution_count": 79,
   "id": "68c0b08d",
   "metadata": {},
   "outputs": [],
   "source": [
    "# Load the dataset\n",
    "data = pd.read_csv(data_path)\n",
    "data.columns = data.columns.str.strip()"
   ]
  },
  {
   "cell_type": "code",
   "execution_count": 80,
   "id": "92304f6d",
   "metadata": {},
   "outputs": [
    {
     "data": {
      "text/html": [
       "<div>\n",
       "<style scoped>\n",
       "    .dataframe tbody tr th:only-of-type {\n",
       "        vertical-align: middle;\n",
       "    }\n",
       "\n",
       "    .dataframe tbody tr th {\n",
       "        vertical-align: top;\n",
       "    }\n",
       "\n",
       "    .dataframe thead th {\n",
       "        text-align: right;\n",
       "    }\n",
       "</style>\n",
       "<table border=\"1\" class=\"dataframe\">\n",
       "  <thead>\n",
       "    <tr style=\"text-align: right;\">\n",
       "      <th></th>\n",
       "      <th>Velocity</th>\n",
       "      <th>Lean</th>\n",
       "      <th>Pitch</th>\n",
       "      <th>Yaw</th>\n",
       "      <th>Status</th>\n",
       "    </tr>\n",
       "  </thead>\n",
       "  <tbody>\n",
       "    <tr>\n",
       "      <th>0</th>\n",
       "      <td>27.807470</td>\n",
       "      <td>21.937790</td>\n",
       "      <td>0.187675</td>\n",
       "      <td>0.187675</td>\n",
       "      <td>Not Crashed</td>\n",
       "    </tr>\n",
       "    <tr>\n",
       "      <th>1</th>\n",
       "      <td>29.343370</td>\n",
       "      <td>32.098190</td>\n",
       "      <td>-3.914246</td>\n",
       "      <td>-17.031890</td>\n",
       "      <td>Crashed</td>\n",
       "    </tr>\n",
       "    <tr>\n",
       "      <th>2</th>\n",
       "      <td>5.456637</td>\n",
       "      <td>0.000954</td>\n",
       "      <td>0.273161</td>\n",
       "      <td>0.273161</td>\n",
       "      <td>Not Crashed</td>\n",
       "    </tr>\n",
       "    <tr>\n",
       "      <th>3</th>\n",
       "      <td>24.100100</td>\n",
       "      <td>-17.533870</td>\n",
       "      <td>0.246702</td>\n",
       "      <td>0.246702</td>\n",
       "      <td>Not Crashed</td>\n",
       "    </tr>\n",
       "    <tr>\n",
       "      <th>4</th>\n",
       "      <td>45.178600</td>\n",
       "      <td>-42.099580</td>\n",
       "      <td>0.208221</td>\n",
       "      <td>0.208221</td>\n",
       "      <td>Not Crashed</td>\n",
       "    </tr>\n",
       "    <tr>\n",
       "      <th>...</th>\n",
       "      <td>...</td>\n",
       "      <td>...</td>\n",
       "      <td>...</td>\n",
       "      <td>...</td>\n",
       "      <td>...</td>\n",
       "    </tr>\n",
       "    <tr>\n",
       "      <th>167</th>\n",
       "      <td>38.733310</td>\n",
       "      <td>27.477790</td>\n",
       "      <td>0.265729</td>\n",
       "      <td>0.265729</td>\n",
       "      <td>Not Crashed</td>\n",
       "    </tr>\n",
       "    <tr>\n",
       "      <th>168</th>\n",
       "      <td>52.069290</td>\n",
       "      <td>33.461380</td>\n",
       "      <td>0.232162</td>\n",
       "      <td>0.232162</td>\n",
       "      <td>Not Crashed</td>\n",
       "    </tr>\n",
       "    <tr>\n",
       "      <th>169</th>\n",
       "      <td>56.339810</td>\n",
       "      <td>38.866490</td>\n",
       "      <td>0.217463</td>\n",
       "      <td>0.217463</td>\n",
       "      <td>Not Crashed</td>\n",
       "    </tr>\n",
       "    <tr>\n",
       "      <th>170</th>\n",
       "      <td>38.145910</td>\n",
       "      <td>19.990100</td>\n",
       "      <td>0.221607</td>\n",
       "      <td>0.221607</td>\n",
       "      <td>Not Crashed</td>\n",
       "    </tr>\n",
       "    <tr>\n",
       "      <th>171</th>\n",
       "      <td>25.748160</td>\n",
       "      <td>-70.343230</td>\n",
       "      <td>24.539610</td>\n",
       "      <td>130.197800</td>\n",
       "      <td>Crashed</td>\n",
       "    </tr>\n",
       "  </tbody>\n",
       "</table>\n",
       "<p>172 rows × 5 columns</p>\n",
       "</div>"
      ],
      "text/plain": [
       "      Velocity       Lean      Pitch         Yaw       Status\n",
       "0    27.807470  21.937790   0.187675    0.187675  Not Crashed\n",
       "1    29.343370  32.098190  -3.914246  -17.031890      Crashed\n",
       "2     5.456637   0.000954   0.273161    0.273161  Not Crashed\n",
       "3    24.100100 -17.533870   0.246702    0.246702  Not Crashed\n",
       "4    45.178600 -42.099580   0.208221    0.208221  Not Crashed\n",
       "..         ...        ...        ...         ...          ...\n",
       "167  38.733310  27.477790   0.265729    0.265729  Not Crashed\n",
       "168  52.069290  33.461380   0.232162    0.232162  Not Crashed\n",
       "169  56.339810  38.866490   0.217463    0.217463  Not Crashed\n",
       "170  38.145910  19.990100   0.221607    0.221607  Not Crashed\n",
       "171  25.748160 -70.343230  24.539610  130.197800      Crashed\n",
       "\n",
       "[172 rows x 5 columns]"
      ]
     },
     "execution_count": 80,
     "metadata": {},
     "output_type": "execute_result"
    }
   ],
   "source": [
    "data"
   ]
  },
  {
   "cell_type": "code",
   "execution_count": 81,
   "id": "84158953",
   "metadata": {},
   "outputs": [],
   "source": [
    "# Separate features and target variable\n",
    "X = data.drop('Status', axis=1)\n",
    "y = data['Status']\n"
   ]
  },
  {
   "cell_type": "code",
   "execution_count": 82,
   "id": "4314df05",
   "metadata": {},
   "outputs": [],
   "source": [
    "# Perform label encoding on the target variable\n",
    "le = LabelEncoder()\n",
    "y = le.fit_transform(y)\n"
   ]
  },
  {
   "cell_type": "code",
   "execution_count": 83,
   "id": "4f9738cf",
   "metadata": {},
   "outputs": [],
   "source": [
    "# Split the dataset into training and testing sets\n",
    "X_train, X_test, y_train, y_test = train_test_split(X, y, test_size=0.2, random_state=42)\n"
   ]
  },
  {
   "cell_type": "code",
   "execution_count": 84,
   "id": "d13b1488",
   "metadata": {},
   "outputs": [],
   "source": [
    "# Define a list of classifiers to evaluate\n",
    "classifiers = [\n",
    "    LogisticRegression(),\n",
    "    DecisionTreeClassifier(),\n",
    "    RandomForestClassifier(),\n",
    "    SVC()\n",
    "]"
   ]
  },
  {
   "cell_type": "code",
   "execution_count": 85,
   "id": "5a9e793c",
   "metadata": {},
   "outputs": [
    {
     "name": "stdout",
     "output_type": "stream",
     "text": [
      "LogisticRegression Accuracy: 0.8468253968253968\n",
      "DecisionTreeClassifier Accuracy: 0.9275132275132275\n",
      "RandomForestClassifier Accuracy: 0.9854497354497355\n",
      "SVC Accuracy: 0.9412698412698413\n"
     ]
    }
   ],
   "source": [
    "# Evaluate each classifier using cross-validation\n",
    "for classifier in classifiers:\n",
    "    scores = cross_val_score(classifier, X_train, y_train, cv=5)\n",
    "    accuracy = scores.mean()\n",
    "    print(f\"{classifier.__class__.__name__} Accuracy: {accuracy}\")"
   ]
  },
  {
   "cell_type": "code",
   "execution_count": 86,
   "id": "968effa9",
   "metadata": {},
   "outputs": [
    {
     "name": "stdout",
     "output_type": "stream",
     "text": [
      "Best Classifier: DecisionTreeClassifier\n"
     ]
    }
   ],
   "source": [
    "# Select the best classifier based on cross-validation results\n",
    "best_classifier = classifiers[scores.argmax()]\n",
    "print(f\"Best Classifier: {best_classifier.__class__.__name__}\")"
   ]
  },
  {
   "cell_type": "code",
   "execution_count": 87,
   "id": "c220b7db",
   "metadata": {},
   "outputs": [
    {
     "data": {
      "text/html": [
       "<style>#sk-container-id-5 {color: black;background-color: white;}#sk-container-id-5 pre{padding: 0;}#sk-container-id-5 div.sk-toggleable {background-color: white;}#sk-container-id-5 label.sk-toggleable__label {cursor: pointer;display: block;width: 100%;margin-bottom: 0;padding: 0.3em;box-sizing: border-box;text-align: center;}#sk-container-id-5 label.sk-toggleable__label-arrow:before {content: \"▸\";float: left;margin-right: 0.25em;color: #696969;}#sk-container-id-5 label.sk-toggleable__label-arrow:hover:before {color: black;}#sk-container-id-5 div.sk-estimator:hover label.sk-toggleable__label-arrow:before {color: black;}#sk-container-id-5 div.sk-toggleable__content {max-height: 0;max-width: 0;overflow: hidden;text-align: left;background-color: #f0f8ff;}#sk-container-id-5 div.sk-toggleable__content pre {margin: 0.2em;color: black;border-radius: 0.25em;background-color: #f0f8ff;}#sk-container-id-5 input.sk-toggleable__control:checked~div.sk-toggleable__content {max-height: 200px;max-width: 100%;overflow: auto;}#sk-container-id-5 input.sk-toggleable__control:checked~label.sk-toggleable__label-arrow:before {content: \"▾\";}#sk-container-id-5 div.sk-estimator input.sk-toggleable__control:checked~label.sk-toggleable__label {background-color: #d4ebff;}#sk-container-id-5 div.sk-label input.sk-toggleable__control:checked~label.sk-toggleable__label {background-color: #d4ebff;}#sk-container-id-5 input.sk-hidden--visually {border: 0;clip: rect(1px 1px 1px 1px);clip: rect(1px, 1px, 1px, 1px);height: 1px;margin: -1px;overflow: hidden;padding: 0;position: absolute;width: 1px;}#sk-container-id-5 div.sk-estimator {font-family: monospace;background-color: #f0f8ff;border: 1px dotted black;border-radius: 0.25em;box-sizing: border-box;margin-bottom: 0.5em;}#sk-container-id-5 div.sk-estimator:hover {background-color: #d4ebff;}#sk-container-id-5 div.sk-parallel-item::after {content: \"\";width: 100%;border-bottom: 1px solid gray;flex-grow: 1;}#sk-container-id-5 div.sk-label:hover label.sk-toggleable__label {background-color: #d4ebff;}#sk-container-id-5 div.sk-serial::before {content: \"\";position: absolute;border-left: 1px solid gray;box-sizing: border-box;top: 0;bottom: 0;left: 50%;z-index: 0;}#sk-container-id-5 div.sk-serial {display: flex;flex-direction: column;align-items: center;background-color: white;padding-right: 0.2em;padding-left: 0.2em;position: relative;}#sk-container-id-5 div.sk-item {position: relative;z-index: 1;}#sk-container-id-5 div.sk-parallel {display: flex;align-items: stretch;justify-content: center;background-color: white;position: relative;}#sk-container-id-5 div.sk-item::before, #sk-container-id-5 div.sk-parallel-item::before {content: \"\";position: absolute;border-left: 1px solid gray;box-sizing: border-box;top: 0;bottom: 0;left: 50%;z-index: -1;}#sk-container-id-5 div.sk-parallel-item {display: flex;flex-direction: column;z-index: 1;position: relative;background-color: white;}#sk-container-id-5 div.sk-parallel-item:first-child::after {align-self: flex-end;width: 50%;}#sk-container-id-5 div.sk-parallel-item:last-child::after {align-self: flex-start;width: 50%;}#sk-container-id-5 div.sk-parallel-item:only-child::after {width: 0;}#sk-container-id-5 div.sk-dashed-wrapped {border: 1px dashed gray;margin: 0 0.4em 0.5em 0.4em;box-sizing: border-box;padding-bottom: 0.4em;background-color: white;}#sk-container-id-5 div.sk-label label {font-family: monospace;font-weight: bold;display: inline-block;line-height: 1.2em;}#sk-container-id-5 div.sk-label-container {text-align: center;}#sk-container-id-5 div.sk-container {/* jupyter's `normalize.less` sets `[hidden] { display: none; }` but bootstrap.min.css set `[hidden] { display: none !important; }` so we also need the `!important` here to be able to override the default hidden behavior on the sphinx rendered scikit-learn.org. See: https://github.com/scikit-learn/scikit-learn/issues/21755 */display: inline-block !important;position: relative;}#sk-container-id-5 div.sk-text-repr-fallback {display: none;}</style><div id=\"sk-container-id-5\" class=\"sk-top-container\"><div class=\"sk-text-repr-fallback\"><pre>DecisionTreeClassifier()</pre><b>In a Jupyter environment, please rerun this cell to show the HTML representation or trust the notebook. <br />On GitHub, the HTML representation is unable to render, please try loading this page with nbviewer.org.</b></div><div class=\"sk-container\" hidden><div class=\"sk-item\"><div class=\"sk-estimator sk-toggleable\"><input class=\"sk-toggleable__control sk-hidden--visually\" id=\"sk-estimator-id-5\" type=\"checkbox\" checked><label for=\"sk-estimator-id-5\" class=\"sk-toggleable__label sk-toggleable__label-arrow\">DecisionTreeClassifier</label><div class=\"sk-toggleable__content\"><pre>DecisionTreeClassifier()</pre></div></div></div></div></div>"
      ],
      "text/plain": [
       "DecisionTreeClassifier()"
      ]
     },
     "execution_count": 87,
     "metadata": {},
     "output_type": "execute_result"
    }
   ],
   "source": [
    "# Train the best classifier on the full training set\n",
    "best_classifier.fit(X_train, y_train)\n"
   ]
  },
  {
   "cell_type": "code",
   "execution_count": 88,
   "id": "b2b42b76",
   "metadata": {},
   "outputs": [
    {
     "name": "stdout",
     "output_type": "stream",
     "text": [
      "Test Accuracy: 0.9142857142857143\n"
     ]
    }
   ],
   "source": [
    "# Evaluate the best classifier on the test set\n",
    "test_accuracy = best_classifier.score(X_test, y_test)\n",
    "print(f\"Test Accuracy: {test_accuracy}\")"
   ]
  },
  {
   "cell_type": "code",
   "execution_count": 89,
   "id": "44072137",
   "metadata": {},
   "outputs": [],
   "source": [
    "## Test the model in action\n",
    "model = best_classifier"
   ]
  },
  {
   "cell_type": "code",
   "execution_count": 93,
   "id": "bc1f793c",
   "metadata": {},
   "outputs": [],
   "source": [
    "# Define the data for a single incident\n",
    "data = {\n",
    "    'Velocity': [27.80747],\n",
    "    'Lean': [21.93779],\n",
    "    'Pitch': [0.1876749],\n",
    "    'Yaw': [0.1876749]\n",
    "}\n"
   ]
  },
  {
   "cell_type": "code",
   "execution_count": 94,
   "id": "2ea1ea96",
   "metadata": {},
   "outputs": [],
   "source": [
    "# Create a DataFrame from the data\n",
    "X = pd.DataFrame(data)"
   ]
  },
  {
   "cell_type": "code",
   "execution_count": 95,
   "id": "7957974a",
   "metadata": {},
   "outputs": [],
   "source": [
    "# Make a prediction on the single incident data\n",
    "prediction = model.predict(X)"
   ]
  },
  {
   "cell_type": "code",
   "execution_count": 96,
   "id": "bffd3135",
   "metadata": {},
   "outputs": [],
   "source": [
    "# Decode the predicted label back to its original category\n",
    "predicted_category = le.inverse_transform(prediction)\n"
   ]
  },
  {
   "cell_type": "code",
   "execution_count": 97,
   "id": "b2301b21",
   "metadata": {},
   "outputs": [
    {
     "data": {
      "text/plain": [
       "array(['Not Crashed'], dtype=object)"
      ]
     },
     "execution_count": 97,
     "metadata": {},
     "output_type": "execute_result"
    }
   ],
   "source": [
    "predicted_category"
   ]
  },
  {
   "cell_type": "code",
   "execution_count": 98,
   "id": "c7db366b",
   "metadata": {},
   "outputs": [],
   "source": [
    "# Export model\n",
    "with open('trained_model.pkl', 'wb') as f:\n",
    "    pickle.dump(model, f)"
   ]
  },
  {
   "cell_type": "code",
   "execution_count": null,
   "id": "be9a251b",
   "metadata": {},
   "outputs": [],
   "source": []
  }
 ],
 "metadata": {
  "kernelspec": {
   "display_name": "Python 3 (ipykernel)",
   "language": "python",
   "name": "python3"
  },
  "language_info": {
   "codemirror_mode": {
    "name": "ipython",
    "version": 3
   },
   "file_extension": ".py",
   "mimetype": "text/x-python",
   "name": "python",
   "nbconvert_exporter": "python",
   "pygments_lexer": "ipython3",
   "version": "3.11.3"
  }
 },
 "nbformat": 4,
 "nbformat_minor": 5
}
