{
 "cells": [
  {
   "cell_type": "code",
   "execution_count": 29,
   "id": "1fb7ba76",
   "metadata": {},
   "outputs": [],
   "source": [
    "import pandas as pd\n",
    "from sklearn.model_selection import train_test_split, cross_val_score\n",
    "from sklearn.preprocessing import LabelEncoder\n",
    "from sklearn.linear_model import LogisticRegression\n",
    "from sklearn.tree import DecisionTreeClassifier\n",
    "from sklearn.ensemble import RandomForestClassifier\n",
    "from sklearn.svm import SVC\n",
    "from pathlib import Path\n",
    "import os\n",
    "import pickle\n"
   ]
  },
  {
   "cell_type": "code",
   "execution_count": 30,
   "id": "19f6db93",
   "metadata": {},
   "outputs": [],
   "source": [
    "#Path for data csv\n",
    "data_path = os.path.join(os.getcwd(), '..', 'csv', 'dataset.csv')"
   ]
  },
  {
   "cell_type": "code",
   "execution_count": 31,
   "id": "68c0b08d",
   "metadata": {},
   "outputs": [],
   "source": [
    "# Load the dataset\n",
    "data = pd.read_csv(data_path)\n",
    "data.columns = data.columns.str.strip()"
   ]
  },
  {
   "cell_type": "code",
   "execution_count": 32,
   "id": "92304f6d",
   "metadata": {},
   "outputs": [
    {
     "data": {
      "text/html": [
       "<div>\n",
       "<style scoped>\n",
       "    .dataframe tbody tr th:only-of-type {\n",
       "        vertical-align: middle;\n",
       "    }\n",
       "\n",
       "    .dataframe tbody tr th {\n",
       "        vertical-align: top;\n",
       "    }\n",
       "\n",
       "    .dataframe thead th {\n",
       "        text-align: right;\n",
       "    }\n",
       "</style>\n",
       "<table border=\"1\" class=\"dataframe\">\n",
       "  <thead>\n",
       "    <tr style=\"text-align: right;\">\n",
       "      <th></th>\n",
       "      <th>Velocity</th>\n",
       "      <th>Lean</th>\n",
       "      <th>Pitch</th>\n",
       "      <th>Yaw</th>\n",
       "      <th>Status</th>\n",
       "    </tr>\n",
       "  </thead>\n",
       "  <tbody>\n",
       "    <tr>\n",
       "      <th>0</th>\n",
       "      <td>33.00923</td>\n",
       "      <td>0.000010</td>\n",
       "      <td>-0.974731</td>\n",
       "      <td>-0.000002</td>\n",
       "      <td>Not Crashed</td>\n",
       "    </tr>\n",
       "    <tr>\n",
       "      <th>1</th>\n",
       "      <td>28.83263</td>\n",
       "      <td>-71.388400</td>\n",
       "      <td>-1.604614</td>\n",
       "      <td>-41.169560</td>\n",
       "      <td>Crashed</td>\n",
       "    </tr>\n",
       "    <tr>\n",
       "      <th>2</th>\n",
       "      <td>32.04254</td>\n",
       "      <td>-2.253479</td>\n",
       "      <td>-0.308746</td>\n",
       "      <td>9.532890</td>\n",
       "      <td>Not Crashed</td>\n",
       "    </tr>\n",
       "    <tr>\n",
       "      <th>3</th>\n",
       "      <td>42.68944</td>\n",
       "      <td>25.880370</td>\n",
       "      <td>1.080804</td>\n",
       "      <td>-0.744476</td>\n",
       "      <td>Crashed</td>\n",
       "    </tr>\n",
       "    <tr>\n",
       "      <th>4</th>\n",
       "      <td>19.18106</td>\n",
       "      <td>-27.602200</td>\n",
       "      <td>-0.707123</td>\n",
       "      <td>-75.976500</td>\n",
       "      <td>Not Crashed</td>\n",
       "    </tr>\n",
       "    <tr>\n",
       "      <th>...</th>\n",
       "      <td>...</td>\n",
       "      <td>...</td>\n",
       "      <td>...</td>\n",
       "      <td>...</td>\n",
       "      <td>...</td>\n",
       "    </tr>\n",
       "    <tr>\n",
       "      <th>250</th>\n",
       "      <td>29.16076</td>\n",
       "      <td>39.975930</td>\n",
       "      <td>1.284130</td>\n",
       "      <td>-157.034300</td>\n",
       "      <td>Not Crashed</td>\n",
       "    </tr>\n",
       "    <tr>\n",
       "      <th>251</th>\n",
       "      <td>45.95143</td>\n",
       "      <td>26.550880</td>\n",
       "      <td>-2.563385</td>\n",
       "      <td>160.625400</td>\n",
       "      <td>Not Crashed</td>\n",
       "    </tr>\n",
       "    <tr>\n",
       "      <th>252</th>\n",
       "      <td>28.37642</td>\n",
       "      <td>-44.825100</td>\n",
       "      <td>-0.694336</td>\n",
       "      <td>176.296600</td>\n",
       "      <td>Not Crashed</td>\n",
       "    </tr>\n",
       "    <tr>\n",
       "      <th>253</th>\n",
       "      <td>26.54370</td>\n",
       "      <td>-34.972810</td>\n",
       "      <td>-3.149933</td>\n",
       "      <td>-41.201750</td>\n",
       "      <td>Not Crashed</td>\n",
       "    </tr>\n",
       "    <tr>\n",
       "      <th>254</th>\n",
       "      <td>34.19169</td>\n",
       "      <td>-71.292110</td>\n",
       "      <td>0.554068</td>\n",
       "      <td>13.206130</td>\n",
       "      <td>Crashed</td>\n",
       "    </tr>\n",
       "  </tbody>\n",
       "</table>\n",
       "<p>255 rows × 5 columns</p>\n",
       "</div>"
      ],
      "text/plain": [
       "     Velocity       Lean     Pitch         Yaw       Status\n",
       "0    33.00923   0.000010 -0.974731   -0.000002  Not Crashed\n",
       "1    28.83263 -71.388400 -1.604614  -41.169560      Crashed\n",
       "2    32.04254  -2.253479 -0.308746    9.532890  Not Crashed\n",
       "3    42.68944  25.880370  1.080804   -0.744476      Crashed\n",
       "4    19.18106 -27.602200 -0.707123  -75.976500  Not Crashed\n",
       "..        ...        ...       ...         ...          ...\n",
       "250  29.16076  39.975930  1.284130 -157.034300  Not Crashed\n",
       "251  45.95143  26.550880 -2.563385  160.625400  Not Crashed\n",
       "252  28.37642 -44.825100 -0.694336  176.296600  Not Crashed\n",
       "253  26.54370 -34.972810 -3.149933  -41.201750  Not Crashed\n",
       "254  34.19169 -71.292110  0.554068   13.206130      Crashed\n",
       "\n",
       "[255 rows x 5 columns]"
      ]
     },
     "execution_count": 32,
     "metadata": {},
     "output_type": "execute_result"
    }
   ],
   "source": [
    "data"
   ]
  },
  {
   "cell_type": "code",
   "execution_count": 33,
   "id": "84158953",
   "metadata": {},
   "outputs": [],
   "source": [
    "# Separate features and target variable\n",
    "X = data.drop('Status', axis=1)\n",
    "y = data['Status']\n"
   ]
  },
  {
   "cell_type": "code",
   "execution_count": 34,
   "id": "4314df05",
   "metadata": {},
   "outputs": [],
   "source": [
    "# Perform label encoding on the target variable\n",
    "le = LabelEncoder()\n",
    "y = le.fit_transform(y)\n"
   ]
  },
  {
   "cell_type": "code",
   "execution_count": 35,
   "id": "4f9738cf",
   "metadata": {},
   "outputs": [],
   "source": [
    "# Split the dataset into training and testing sets\n",
    "X_train, X_test, y_train, y_test = train_test_split(X, y, test_size=0.2, random_state=42)\n"
   ]
  },
  {
   "cell_type": "code",
   "execution_count": 36,
   "id": "d13b1488",
   "metadata": {},
   "outputs": [],
   "source": [
    "# Define a list of classifiers to evaluate\n",
    "classifiers = [\n",
    "    LogisticRegression(),\n",
    "    DecisionTreeClassifier(),\n",
    "    RandomForestClassifier(),\n",
    "    SVC()\n",
    "]"
   ]
  },
  {
   "cell_type": "code",
   "execution_count": 46,
   "id": "5a9e793c",
   "metadata": {},
   "outputs": [
    {
     "name": "stdout",
     "output_type": "stream",
     "text": [
      "LogisticRegression Accuracy: 0.8089024390243903\n",
      "DecisionTreeClassifier Accuracy: 0.911951219512195\n",
      "RandomForestClassifier Accuracy: 0.9314634146341463\n",
      "SVC Accuracy: 0.8335365853658537\n"
     ]
    },
    {
     "data": {
      "text/plain": [
       "4"
      ]
     },
     "execution_count": 46,
     "metadata": {},
     "output_type": "execute_result"
    }
   ],
   "source": [
    "# Evaluate each classifier using cross-validation\n",
    "for classifier in classifiers:\n",
    "    scores = cross_val_score(classifier, X_train, y_train, cv=5)\n",
    "    accuracy = scores.mean()\n",
    "    print(f\"{classifier.__class__.__name__} Accuracy: {accuracy}\")\n",
    "    \n",
    "scores.argmax()"
   ]
  },
  {
   "cell_type": "code",
   "execution_count": 45,
   "id": "968effa9",
   "metadata": {},
   "outputs": [
    {
     "ename": "IndexError",
     "evalue": "list index out of range",
     "output_type": "error",
     "traceback": [
      "\u001b[0;31m---------------------------------------------------------------------------\u001b[0m",
      "\u001b[0;31mIndexError\u001b[0m                                Traceback (most recent call last)",
      "Cell \u001b[0;32mIn[45], line 2\u001b[0m\n\u001b[1;32m      1\u001b[0m \u001b[38;5;66;03m# Select the best classifier based on cross-validation results\u001b[39;00m\n\u001b[0;32m----> 2\u001b[0m best_classifier \u001b[38;5;241m=\u001b[39m classifiers[scores\u001b[38;5;241m.\u001b[39margmax()]\n\u001b[1;32m      3\u001b[0m \u001b[38;5;28mprint\u001b[39m(\u001b[38;5;124mf\u001b[39m\u001b[38;5;124m\"\u001b[39m\u001b[38;5;124mBest Classifier: \u001b[39m\u001b[38;5;132;01m{\u001b[39;00mbest_classifier\u001b[38;5;241m.\u001b[39m\u001b[38;5;18m__class__\u001b[39m\u001b[38;5;241m.\u001b[39m\u001b[38;5;18m__name__\u001b[39m\u001b[38;5;132;01m}\u001b[39;00m\u001b[38;5;124m\"\u001b[39m)\n",
      "\u001b[0;31mIndexError\u001b[0m: list index out of range"
     ]
    }
   ],
   "source": [
    "# Select the best classifier based on cross-validation results\n",
    "best_classifier = classifiers[scores.argmax()]\n",
    "print(f\"Best Classifier: {best_classifier.__class__.__name__}\")"
   ]
  },
  {
   "cell_type": "code",
   "execution_count": 39,
   "id": "c220b7db",
   "metadata": {},
   "outputs": [
    {
     "ename": "NameError",
     "evalue": "name 'best_classifier' is not defined",
     "output_type": "error",
     "traceback": [
      "\u001b[0;31m---------------------------------------------------------------------------\u001b[0m",
      "\u001b[0;31mNameError\u001b[0m                                 Traceback (most recent call last)",
      "Cell \u001b[0;32mIn[39], line 2\u001b[0m\n\u001b[1;32m      1\u001b[0m \u001b[38;5;66;03m# Train the best classifier on the full training set\u001b[39;00m\n\u001b[0;32m----> 2\u001b[0m best_classifier\u001b[38;5;241m.\u001b[39mfit(X_train, y_train)\n",
      "\u001b[0;31mNameError\u001b[0m: name 'best_classifier' is not defined"
     ]
    }
   ],
   "source": [
    "# Train the best classifier on the full training set\n",
    "best_classifier.fit(X_train, y_train)\n"
   ]
  },
  {
   "cell_type": "code",
   "execution_count": 40,
   "id": "b2b42b76",
   "metadata": {},
   "outputs": [
    {
     "ename": "NameError",
     "evalue": "name 'best_classifier' is not defined",
     "output_type": "error",
     "traceback": [
      "\u001b[0;31m---------------------------------------------------------------------------\u001b[0m",
      "\u001b[0;31mNameError\u001b[0m                                 Traceback (most recent call last)",
      "Cell \u001b[0;32mIn[40], line 2\u001b[0m\n\u001b[1;32m      1\u001b[0m \u001b[38;5;66;03m# Evaluate the best classifier on the test set\u001b[39;00m\n\u001b[0;32m----> 2\u001b[0m test_accuracy \u001b[38;5;241m=\u001b[39m best_classifier\u001b[38;5;241m.\u001b[39mscore(X_test, y_test)\n\u001b[1;32m      3\u001b[0m \u001b[38;5;28mprint\u001b[39m(\u001b[38;5;124mf\u001b[39m\u001b[38;5;124m\"\u001b[39m\u001b[38;5;124mTest Accuracy: \u001b[39m\u001b[38;5;132;01m{\u001b[39;00mtest_accuracy\u001b[38;5;132;01m}\u001b[39;00m\u001b[38;5;124m\"\u001b[39m)\n",
      "\u001b[0;31mNameError\u001b[0m: name 'best_classifier' is not defined"
     ]
    }
   ],
   "source": [
    "# Evaluate the best classifier on the test set\n",
    "test_accuracy = best_classifier.score(X_test, y_test)\n",
    "print(f\"Test Accuracy: {test_accuracy}\")"
   ]
  },
  {
   "cell_type": "code",
   "execution_count": 41,
   "id": "44072137",
   "metadata": {},
   "outputs": [
    {
     "ename": "NameError",
     "evalue": "name 'best_classifier' is not defined",
     "output_type": "error",
     "traceback": [
      "\u001b[0;31m---------------------------------------------------------------------------\u001b[0m",
      "\u001b[0;31mNameError\u001b[0m                                 Traceback (most recent call last)",
      "Cell \u001b[0;32mIn[41], line 2\u001b[0m\n\u001b[1;32m      1\u001b[0m \u001b[38;5;66;03m## Test the model in action\u001b[39;00m\n\u001b[0;32m----> 2\u001b[0m model \u001b[38;5;241m=\u001b[39m best_classifier\n",
      "\u001b[0;31mNameError\u001b[0m: name 'best_classifier' is not defined"
     ]
    }
   ],
   "source": [
    "## Test the model in action\n",
    "model = best_classifier"
   ]
  },
  {
   "cell_type": "code",
   "execution_count": null,
   "id": "bc1f793c",
   "metadata": {},
   "outputs": [],
   "source": [
    "# Define the data for a single incident\n",
    "data = {\n",
    "    'Velocity': [27.80747],\n",
    "    'Lean': [21.93779],\n",
    "    'Pitch': [0.1876749],\n",
    "    'Yaw': [0.1876749]\n",
    "}\n"
   ]
  },
  {
   "cell_type": "code",
   "execution_count": null,
   "id": "2ea1ea96",
   "metadata": {},
   "outputs": [],
   "source": [
    "# Create a DataFrame from the data\n",
    "X = pd.DataFrame(data)"
   ]
  },
  {
   "cell_type": "code",
   "execution_count": null,
   "id": "7957974a",
   "metadata": {},
   "outputs": [],
   "source": [
    "# Make a prediction on the single incident data\n",
    "prediction = model.predict(X)"
   ]
  },
  {
   "cell_type": "code",
   "execution_count": null,
   "id": "bffd3135",
   "metadata": {},
   "outputs": [],
   "source": [
    "# Decode the predicted label back to its original category\n",
    "predicted_category = le.inverse_transform(prediction)\n"
   ]
  },
  {
   "cell_type": "code",
   "execution_count": null,
   "id": "b2301b21",
   "metadata": {},
   "outputs": [],
   "source": [
    "predicted_category"
   ]
  },
  {
   "cell_type": "code",
   "execution_count": null,
   "id": "c7db366b",
   "metadata": {},
   "outputs": [],
   "source": [
    "# Export model\n",
    "with open('trained_model.pkl', 'wb') as f:\n",
    "    pickle.dump(model, f)"
   ]
  },
  {
   "cell_type": "code",
   "execution_count": null,
   "id": "be9a251b",
   "metadata": {},
   "outputs": [],
   "source": []
  },
  {
   "cell_type": "code",
   "execution_count": null,
   "id": "47ea0515",
   "metadata": {},
   "outputs": [],
   "source": []
  }
 ],
 "metadata": {
  "kernelspec": {
   "display_name": "Python 3 (ipykernel)",
   "language": "python",
   "name": "python3"
  },
  "language_info": {
   "codemirror_mode": {
    "name": "ipython",
    "version": 3
   },
   "file_extension": ".py",
   "mimetype": "text/x-python",
   "name": "python",
   "nbconvert_exporter": "python",
   "pygments_lexer": "ipython3",
   "version": "3.11.3"
  }
 },
 "nbformat": 4,
 "nbformat_minor": 5
}
